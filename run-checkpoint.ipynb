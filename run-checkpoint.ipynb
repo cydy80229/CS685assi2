{
 "cells": [
  {
   "cell_type": "markdown",
   "metadata": {},
   "source": [
    "# Adversarial Attacks on ConvNets\n",
    "\n",
    "Ref: https://github.com/gongzhitaao/tensorflow-adversarial"
   ]
  },
  {
   "cell_type": "code",
   "execution_count": null,
   "metadata": {},
   "outputs": [
    {
     "data": {
      "application/javascript": [
       "IPython.notebook.clear_all_output();"
      ],
      "text/plain": [
       "<IPython.core.display.Javascript object>"
      ]
     },
     "metadata": {},
     "output_type": "display_data"
    }
   ],
   "source": [
    "%%javascript\n",
    "IPython.notebook.clear_all_output();"
   ]
  },
  {
   "cell_type": "markdown",
   "metadata": {},
   "source": [
    "## Step 1: Data Preparation"
   ]
  },
  {
   "cell_type": "code",
   "execution_count": 2,
   "metadata": {},
   "outputs": [],
   "source": [
    "import os\n",
    "import matplotlib.pyplot as plt\n",
    "%matplotlib inline\n",
    "#The line above is necesary to show Matplotlib's plots inside a Jupyter Notebook\n",
    "\n",
    "import numpy as np\n",
    "import tensorflow as tf\n",
    "\n",
    "img_size = 28 # images to DL models are of size 28 x 28\n",
    "img_chan = 1 # the channel dimension, = 1 since the MNIST dataset is grayscale\n",
    "n_classes = 10 # classes are the 10 digits"
   ]
  },
  {
   "cell_type": "markdown",
   "metadata": {},
   "source": [
    "Load the MNIST dataset, the \"hello world\" dataset for deep learning"
   ]
  },
  {
   "cell_type": "code",
   "execution_count": 3,
   "metadata": {},
   "outputs": [
    {
     "name": "stdout",
     "output_type": "stream",
     "text": [
      "|X_train|: (60000, 28, 28)\n",
      "|y_train|: (60000,)\n",
      "|X_test|: (10000, 28, 28)\n",
      "|y_test|: (10000,)\n"
     ]
    },
    {
     "data": {
      "image/png": "[encoded data removed]",
      "text/plain": [
       "<matplotlib.figure.Figure at 0x121cca1d0>"
      ]
     },
     "metadata": {},
     "output_type": "display_data"
    }
   ],
   "source": [
    "mnist = tf.keras.datasets.mnist\n",
    "(X_train, y_train), (X_test, y_test) = mnist.load_data()\n",
    "print('|X_train|:', X_train.shape)\n",
    "print('|y_train|:', y_train.shape)\n",
    "print('|X_test|:', X_test.shape)\n",
    "print('|y_test|:', y_test.shape)\n",
    "\n",
    "#Show the 1st training image with matplotlib\n",
    "plt.imshow(X_train[0])\n",
    "plt.show()"
   ]
  },
  {
   "cell_type": "markdown",
   "metadata": {},
   "source": [
    "Add the channel dimension to be TensorFlow-compatible; normalize pixel to be within [0, 1]"
   ]
  },
  {
   "cell_type": "code",
   "execution_count": 4,
   "metadata": {},
   "outputs": [
    {
     "name": "stdout",
     "output_type": "stream",
     "text": [
      "|X_train|: (60000, 28, 28, 1)\n",
      "|X_test|: (10000, 28, 28, 1)\n"
     ]
    }
   ],
   "source": [
    "X_train = np.reshape(X_train, [-1, img_size, img_size, img_chan])\n",
    "X_train = X_train.astype(np.float32) / 255\n",
    "X_test = np.reshape(X_test, [-1, img_size, img_size, img_chan])\n",
    "X_test = X_test.astype(np.float32) / 255\n",
    "\n",
    "print('|X_train|:', X_train.shape)\n",
    "print('|X_test|:', X_test.shape)"
   ]
  },
  {
   "cell_type": "markdown",
   "metadata": {},
   "source": [
    "One-hot encoding the labels to be TensorFlow-compatible:"
   ]
  },
  {
   "cell_type": "code",
   "execution_count": 5,
   "metadata": {},
   "outputs": [
    {
     "name": "stdout",
     "output_type": "stream",
     "text": [
      "|y_train|: (60000, 10)\n",
      "|y_test|: (10000, 10)\n"
     ]
    }
   ],
   "source": [
    "to_categorical = tf.keras.utils.to_categorical\n",
    "y_train = to_categorical(y_train)\n",
    "y_test = to_categorical(y_test)\n",
    "\n",
    "print('|y_train|:', y_train.shape)\n",
    "print('|y_test|:', y_test.shape)"
   ]
  },
  {
   "cell_type": "code",
   "execution_count": 6,
   "metadata": {},
   "outputs": [
    {
     "name": "stdout",
     "output_type": "stream",
     "text": [
      "[0. 0. 0. 0. 0. 0. 0. 1. 0. 0.]\n"
     ]
    }
   ],
   "source": [
    "print(y_test[0]) # see the one-hot encoding of the label of the 1st test data"
   ]
  },
  {
   "cell_type": "markdown",
   "metadata": {},
   "source": [
    "Shuffle the training dataset:"
   ]
  },
  {
   "cell_type": "code",
   "execution_count": 7,
   "metadata": {},
   "outputs": [],
   "source": [
    "num_train = X_train.shape[0]\n",
    "\n",
    "ind = np.random.permutation(num_train)\n",
    "X_train, y_train = X_train[ind], y_train[ind]"
   ]
  },
  {
   "cell_type": "markdown",
   "metadata": {},
   "source": [
    "Splitting the training dataset into `training` and `validation` datasets"
   ]
  },
  {
   "cell_type": "code",
   "execution_count": 8,
   "metadata": {},
   "outputs": [
    {
     "name": "stdout",
     "output_type": "stream",
     "text": [
      "|X_train|: (54000, 28, 28, 1)\n",
      "|y_train|: (54000, 10)\n",
      "|X_valid|: (6000, 28, 28, 1)\n",
      "|y_valid|: (6000, 10)\n"
     ]
    }
   ],
   "source": [
    "VALIDATION_SPLIT = 0.1 # hold out 10% training data for validation\n",
    "n = int(num_train * (1-VALIDATION_SPLIT)) # splitting index\n",
    "\n",
    "# take validation data objects first, as training data will change later\n",
    "X_valid = X_train[n:]\n",
    "y_valid = y_train[n:]\n",
    "\n",
    "X_train = X_train[:n]\n",
    "y_train = y_train[:n]\n",
    "\n",
    "print('|X_train|:', X_train.shape)\n",
    "print('|y_train|:', y_train.shape)\n",
    "print('|X_valid|:', X_valid.shape)\n",
    "print('|y_valid|:', y_valid.shape)"
   ]
  },
  {
   "cell_type": "markdown",
   "metadata": {},
   "source": [
    "## Step 2: Construct Compuational Graph"
   ]
  },
  {
   "cell_type": "markdown",
   "metadata": {},
   "source": [
    "`tf.variable_scope` defines a prefix for the operations and variables defined within the scope.\n",
    "\n",
    "You have to use `tf.variable_scope` if you want to create a variable with the same name of another variable but in a different scope."
   ]
  },
  {
   "cell_type": "markdown",
   "metadata": {},
   "source": [
    "We will use functions in `tf.layers` such as `conv2d`, `max_pooling2d`, `dense` and `dropout` to define our model, see https://www.tensorflow.org/api_docs/python/tf/layers for a full list.\n",
    "\n",
    "We will use functions in `tf.nn` such as `softmax` to define our model, see https://www.tensorflow.org/api_docs/python/tf/nn for a full list."
   ]
  },
  {
   "cell_type": "code",
   "execution_count": 9,
   "metadata": {},
   "outputs": [],
   "source": [
    "def model(x, logits=False, training=False):\n",
    "# logits: whether to return logits\n",
    "    with tf.variable_scope('conv0'):\n",
    "        z = tf.layers.conv2d(x, filters=32, kernel_size=[3, 3],\n",
    "                             padding='same', activation=tf.nn.relu)\n",
    "        z = tf.layers.max_pooling2d(z, pool_size=[2, 2], strides=2)\n",
    "\n",
    "    with tf.variable_scope('conv1'):\n",
    "        z = tf.layers.conv2d(z, filters=64, kernel_size=[3, 3],\n",
    "                             padding='same', activation=tf.nn.relu)\n",
    "        z = tf.layers.max_pooling2d(z, pool_size=[2, 2], strides=2)\n",
    "\n",
    "    with tf.variable_scope('flatten'):\n",
    "        shape = z.get_shape().as_list()\n",
    "        # tf.Tensor.get_shape() is a member function of TensorFlow Tensor.\n",
    "        # The shape information inferred by it may be incomplete.\n",
    "        # Recommended Readings:\n",
    "        # http://www.heyuhang.com/blog/2018/07/14/tensorflow-get-shape-vs-tf-dot-shape/\n",
    "        z = tf.reshape(z, [-1, np.prod(shape[1:])])\n",
    "\n",
    "    with tf.variable_scope('mlp'):\n",
    "        z = tf.layers.dense(z, units=128, activation=tf.nn.relu)\n",
    "        # dropout has two mode: training and testing\n",
    "        z = tf.layers.dropout(z, rate=0.25, training=training)\n",
    "\n",
    "    logits_ = tf.layers.dense(z, units=10, name='logits')\n",
    "    y = tf.nn.softmax(logits_, name='ybar')\n",
    "\n",
    "    if logits: return y, logits_\n",
    "    else: return y"
   ]
  },
  {
   "cell_type": "markdown",
   "metadata": {},
   "source": [
    "**This is the input (i.e., function object) to our attacking functions later !!!**"
   ]
  },
  {
   "cell_type": "markdown",
   "metadata": {},
   "source": [
    "Question: Please list the layers in the model.\n",
    "\n",
    "**[Your Answer Here]**"
   ]
  },
  {
   "cell_type": "markdown",
   "metadata": {},
   "source": [
    "Create an environment variable to carry variables in its fields.\n",
    "\n",
    "For this, we need to create a dummy class as the type of the environment variable."
   ]
  },
  {
   "cell_type": "code",
   "execution_count": 10,
   "metadata": {},
   "outputs": [],
   "source": [
    "class Environment:\n",
    "    pass # a class with no methods (yet)\n",
    "\n",
    "env = Environment() # this is the GLOBAL environment variable"
   ]
  },
  {
   "cell_type": "markdown",
   "metadata": {},
   "source": [
    "Define model data-inputs (images, labels), which will be provided using argument `feed_dict` to `session.run(.)`.\n",
    "\n",
    "Define model outputs (accuracy, loss, optimizer), which will be returned by `session.run(.)`."
   ]
  },
  {
   "cell_type": "code",
   "execution_count": 11,
   "metadata": {},
   "outputs": [
    {
     "name": "stdout",
     "output_type": "stream",
     "text": [
      "WARNING:tensorflow:From <ipython-input-11-d14b6e3ad270>:26: softmax_cross_entropy_with_logits (from tensorflow.python.ops.nn_ops) is deprecated and will be removed in a future version.\n",
      "Instructions for updating:\n",
      "\n",
      "Future major versions of TensorFlow will allow gradients to flow\n",
      "into the labels input on backprop by default.\n",
      "\n",
      "See `tf.nn.softmax_cross_entropy_with_logits_v2`.\n",
      "\n"
     ]
    }
   ],
   "source": [
    "with tf.variable_scope('model'):\n",
    "    # INPUTS to the model\n",
    "    env.x = tf.placeholder(tf.float32, (None, img_size, img_size, img_chan), name='x')\n",
    "    # 'None' means the number of training data will be determined when session.run(.) is called\n",
    "    env.y = tf.placeholder(tf.float32, (None, n_classes), name='y')\n",
    "    env.training = tf.placeholder_with_default(False, (), name='mode')\n",
    "    # 'False' is the default value used if the value of env.training is not provided to session.run(.)\n",
    "    # '()' means the placeholder is a constant (0-dimensional)\n",
    "    # note that 1-dimensional object is an array\n",
    "\n",
    "    # call our defined model to get its outputs\n",
    "    env.ybar, logits = model(env.x, logits=True, training=env.training)\n",
    "\n",
    "    # OUTPUT 1: accuracy to be returned by session.run(.)\n",
    "    with tf.variable_scope('acc'):\n",
    "        # Check https://www.tensorflow.org/api_docs/python/tf/math/argmax\n",
    "        count = tf.equal(tf.argmax(env.y, axis=1), tf.argmax(env.ybar, axis=1))\n",
    "        # Check https://www.tensorflow.org/api_docs/python/tf/dtypes/cast\n",
    "        # and https://www.tensorflow.org/api_docs/python/tf/math/reduce_mean\n",
    "        env.acc = tf.reduce_mean(tf.cast(count, tf.float32), name='acc')\n",
    "    \n",
    "    # OUTPUT 2: loss to be returned by session.run(.)\n",
    "    with tf.variable_scope('loss'):\n",
    "        # cross_entropy_loss over softmax_logits\n",
    "        xent = tf.nn.softmax_cross_entropy_with_logits(labels=env.y,\n",
    "                                                       logits=logits)\n",
    "        # average over all data samples\n",
    "        env.loss = tf.reduce_mean(xent, name='loss')\n",
    "    \n",
    "    # Define optimizer over loss\n",
    "    with tf.variable_scope('train_op'):\n",
    "        optimizer = tf.train.AdamOptimizer()\n",
    "        env.train_op = optimizer.minimize(env.loss)\n",
    "\n",
    "    # dependency for training:\n",
    "    # train_op ----<backprop>---- loss ----<fwd_model>---- inputs\n",
    "    \n",
    "    # dependency for testing:\n",
    "    # inputs ----<fwd_model>----> loss"
   ]
  },
  {
   "cell_type": "markdown",
   "metadata": {},
   "source": [
    "**Think:** Refer back to course slides and try to comprehend what `optimizer.minimize(.)` here does and returns; for example, it handles `tf.gradient(.)` and weight parameter update by `tf.reassign(.)`."
   ]
  },
  {
   "cell_type": "markdown",
   "metadata": {},
   "source": [
    "Define model job-configuration-inputs (eps, epochs, targeted_label), which will be provided using argument `feed_dict` to `session.run(.)`."
   ]
  },
  {
   "cell_type": "code",
   "execution_count": 12,
   "metadata": {},
   "outputs": [],
   "source": [
    "with tf.variable_scope('model', reuse=True): # reuse the above defined var-scope\n",
    "    # adv means adversarial\n",
    "    env.adv_eps = tf.placeholder(tf.float32, (), name='adv_eps')\n",
    "    env.adv_epochs = tf.placeholder(tf.int32, (), name='adv_epochs')\n",
    "    env.adv_y = tf.placeholder(tf.int32, (), name='adv_y')"
   ]
  },
  {
   "cell_type": "markdown",
   "metadata": {},
   "source": [
    "## Step 3: Training Our DL Model"
   ]
  },
  {
   "cell_type": "markdown",
   "metadata": {},
   "source": [
    "Initialize computational graph:\n",
    "\n",
    "Note: this must be done after computational graph is constructed, so that all variables are properly initialized."
   ]
  },
  {
   "cell_type": "code",
   "execution_count": 13,
   "metadata": {},
   "outputs": [],
   "source": [
    "# An InteractiveSession installs itself as the default session on construction,\n",
    "# It avoids having to pass an explicit Session object to run op\n",
    "sess = tf.InteractiveSession()\n",
    "\n",
    "# Initialize model parameters (TensorFlow Variables)\n",
    "sess.run(tf.global_variables_initializer())\n",
    "sess.run(tf.local_variables_initializer())"
   ]
  },
  {
   "cell_type": "markdown",
   "metadata": {},
   "source": [
    "Write a function to evaluate a model. Evaluate the model by running `env.loss` and `env.acc` (only forward propagation).\n",
    "\n",
    "Used by our training process to report current loss."
   ]
  },
  {
   "cell_type": "code",
   "execution_count": 14,
   "metadata": {},
   "outputs": [],
   "source": [
    "def evaluate(X_data, y_data, batch_size=128):\n",
    "    \n",
    "    n_sample = X_data.shape[0]\n",
    "    n_batch = (n_sample+batch_size-1) // batch_size # number of mini-batches\n",
    "    \n",
    "    loss, acc = 0, 0\n",
    "\n",
    "    for batch in range(n_batch):\n",
    "        print('[Evaluation] batch {0}/{1}'.format(batch + 1, n_batch), end='\\r')\n",
    "        start = batch * batch_size\n",
    "        end = min(n_sample, start + batch_size)\n",
    "        cnt = end - start # weight for the current mini-batch\n",
    "        batch_loss, batch_acc = sess.run(\n",
    "            [env.loss, env.acc],\n",
    "            feed_dict={env.x: X_data[start:end],\n",
    "                       env.y: y_data[start:end]})\n",
    "        loss += batch_loss * cnt\n",
    "        acc += batch_acc * cnt\n",
    "    loss /= n_sample\n",
    "    acc /= n_sample\n",
    "\n",
    "    print('* loss: {0:.4f} acc: {1:.4f}'.format(loss, acc))\n",
    "    return loss, acc"
   ]
  },
  {
   "cell_type": "markdown",
   "metadata": {},
   "source": [
    "Training parameters:"
   ]
  },
  {
   "cell_type": "code",
   "execution_count": 15,
   "metadata": {},
   "outputs": [],
   "source": [
    "batch_size = 128 # size of mini-batch\n",
    "epochs = 5\n",
    "name = 'mnist' # model name"
   ]
  },
  {
   "cell_type": "code",
   "execution_count": 16,
   "metadata": {},
   "outputs": [
    {
     "name": "stdout",
     "output_type": "stream",
     "text": [
      "n_batch: 422\n"
     ]
    }
   ],
   "source": [
    "num_train = X_train.shape[0]\n",
    "n_batch = (num_train + batch_size - 1) // batch_size # number of mini-batches per epoch / data-pass\n",
    "print('n_batch:', n_batch)"
   ]
  },
  {
   "cell_type": "markdown",
   "metadata": {},
   "source": [
    "Train the model by running `env.train_op` returned by optimizer (need backpropagation)."
   ]
  },
  {
   "cell_type": "code",
   "execution_count": 17,
   "metadata": {},
   "outputs": [
    {
     "name": "stdout",
     "output_type": "stream",
     "text": [
      "Epoch 1/5\n",
      "* loss: 0.0707 acc: 0.9785\n",
      "Epoch 2/5\n",
      "* loss: 0.0618 acc: 0.9817\n",
      "Epoch 3/5\n",
      "* loss: 0.0468 acc: 0.9865\n",
      "Epoch 4/5\n",
      "* loss: 0.0439 acc: 0.9857\n",
      "Epoch 5/5\n",
      "* loss: 0.0407 acc: 0.9885\n"
     ]
    }
   ],
   "source": [
    "for epoch in range(epochs):\n",
    "    print('Epoch {0}/{1}'.format(epoch + 1, epochs))\n",
    "\n",
    "    # shuffle data (once per epoch)\n",
    "    ind = np.arange(num_train)\n",
    "    np.random.shuffle(ind)\n",
    "    X_train = X_train[ind]\n",
    "    y_train = y_train[ind]\n",
    "\n",
    "    for batch in range(n_batch):\n",
    "        print('[Training] Batch {0}/{1}'.format(batch + 1, n_batch), end='\\r')\n",
    "        ######################################################################\n",
    "        # TODO: your code here ...                                           #\n",
    "        ######################################################################\n",
    "        \n",
    "        # call sess.run(.) by setting feed_dict properly\n",
    "        # hint: you may refer to sess.run(.) in evaluate(.)\n",
    "        \n",
    "        ######################################################################\n",
    "        #                              END OF YOUR CODE                      #\n",
    "        ######################################################################\n",
    "    \n",
    "    # evaluate on validation dataset (once per epoch)\n",
    "    evaluate(X_valid, y_valid)"
   ]
  },
  {
   "cell_type": "markdown",
   "metadata": {},
   "source": [
    "Evaluate on test dataset:"
   ]
  },
  {
   "cell_type": "code",
   "execution_count": 18,
   "metadata": {},
   "outputs": [
    {
     "name": "stdout",
     "output_type": "stream",
     "text": [
      "* loss: 0.0262 acc: 0.9910\n"
     ]
    },
    {
     "data": {
      "text/plain": [
       "(0.026188828024733813, 0.991)"
      ]
     },
     "execution_count": 18,
     "metadata": {},
     "output_type": "execute_result"
    }
   ],
   "source": [
    "evaluate(X_test, y_test)"
   ]
  },
  {
   "cell_type": "markdown",
   "metadata": {},
   "source": [
    "## Step 4: The Prediction Function"
   ]
  },
  {
   "cell_type": "markdown",
   "metadata": {},
   "source": [
    "First define the predict function that takes X and return score vector y (per sample):"
   ]
  },
  {
   "cell_type": "markdown",
   "metadata": {},
   "source": [
    "Needed to compute the label, used to check the prediction of test images and their adversarial versions."
   ]
  },
  {
   "cell_type": "code",
   "execution_count": 19,
   "metadata": {},
   "outputs": [],
   "source": [
    "def predict(X_data, batch_size=128):\n",
    "    \"\"\"\n",
    "    Do inference by running env.ybar.\n",
    "    \"\"\"\n",
    "    n_classes = env.ybar.get_shape().as_list()[1]\n",
    "\n",
    "    n_sample = X_data.shape[0]\n",
    "    n_batch = int((n_sample+batch_size-1) / batch_size)\n",
    "    yval = np.empty((n_sample, n_classes))\n",
    "\n",
    "    for batch in range(n_batch):\n",
    "        print('[Prediction] batch {0}/{1}'.format(batch + 1, n_batch), end='\\r')\n",
    "        start = batch * batch_size\n",
    "        end = min(n_sample, start + batch_size)\n",
    "        ######################################################################\n",
    "        # TODO: your code here ...                                           #\n",
    "        ######################################################################\n",
    "        \n",
    "        # hint:\n",
    "        # only X is needed as input, as we compute y as prediction\n",
    "        # evaluation metrics are not needed\n",
    "        \n",
    "        ######################################################################\n",
    "        #                              END OF YOUR CODE                      #\n",
    "        ######################################################################\n",
    "    print()\n",
    "    return yval"
   ]
  },
  {
   "cell_type": "markdown",
   "metadata": {},
   "source": [
    "See how to use it, by predicting the first 2 test samples:"
   ]
  },
  {
   "cell_type": "code",
   "execution_count": 20,
   "metadata": {},
   "outputs": [
    {
     "name": "stdout",
     "output_type": "stream",
     "text": [
      "[Prediction] batch 1/1\n"
     ]
    },
    {
     "data": {
      "text/plain": [
       "array([[4.03711830e-12, 2.77837557e-08, 6.92574886e-08, 1.53246358e-08,\n",
       "        1.62804059e-09, 1.03627711e-10, 7.97872293e-13, 9.99998927e-01,\n",
       "        1.19541586e-08, 9.55773771e-07],\n",
       "       [8.88269014e-08, 4.58029881e-08, 9.99999762e-01, 2.29097939e-11,\n",
       "        8.09311640e-09, 8.35605673e-13, 7.99713931e-08, 4.45800480e-11,\n",
       "        1.90023997e-09, 3.88367845e-11]])"
      ]
     },
     "execution_count": 20,
     "metadata": {},
     "output_type": "execute_result"
    }
   ],
   "source": [
    "result = predict(X_test[0:2])\n",
    "result"
   ]
  },
  {
   "cell_type": "code",
   "execution_count": 21,
   "metadata": {},
   "outputs": [
    {
     "name": "stdout",
     "output_type": "stream",
     "text": [
      "[7 2]\n"
     ]
    }
   ],
   "source": [
    "print(np.argmax(result, axis=1))"
   ]
  },
  {
   "cell_type": "code",
   "execution_count": 22,
   "metadata": {},
   "outputs": [
    {
     "name": "stdout",
     "output_type": "stream",
     "text": [
      "[[0. 0. 0. 0. 0. 0. 0. 1. 0. 0.]\n",
      " [0. 0. 1. 0. 0. 0. 0. 0. 0. 0.]]\n"
     ]
    }
   ],
   "source": [
    "print(y_test[0:2])"
   ]
  },
  {
   "cell_type": "markdown",
   "metadata": {},
   "source": [
    "Question: is the predict correct? Why?\n",
    "\n",
    "**[Your Answer Here]**"
   ]
  },
  {
   "cell_type": "markdown",
   "metadata": {},
   "source": [
    "## Step 5: Generating Adversarial Images Using FGSM"
   ]
  },
  {
   "cell_type": "markdown",
   "metadata": {},
   "source": [
    "Let us first implement the Fast Gradient Sign Method (FGSM). Look at its definition here: https://medium.com/onfido-tech/adversarial-attacks-and-defences-for-convolutional-neural-networks-66915ece52e7"
   ]
  },
  {
   "cell_type": "markdown",
   "metadata": {},
   "source": [
    "We have defined some attack functions in package `attack`, now import them and pass `model` as their input.\n",
    "\n",
    "Track these attack models in `env`."
   ]
  },
  {
   "cell_type": "code",
   "execution_count": 23,
   "metadata": {},
   "outputs": [],
   "source": [
    "from attacks import fgm, fgmt, jsma, deepfool\n",
    "\n",
    "with tf.variable_scope('model', reuse=True): # reuse var-scope of where we defined models\n",
    "    env.x_fgsm = fgm(model, env.x, # untargeted\n",
    "                     epochs=env.adv_epochs, eps=env.adv_eps)\n",
    "    env.x_fgsmt = fgmt(model, env.x, env.adv_y, # targeted\n",
    "                     epochs=env.adv_epochs, eps=env.adv_eps)\n",
    "    env.x_deepfool = deepfool(model, env.x, # untargeted\n",
    "                              epochs=env.adv_epochs, batch=True)\n",
    "    env.x_jsma = jsma(model, env.x, env.adv_y, # targeted\n",
    "                      eps=env.adv_eps, epochs=env.adv_epochs)"
   ]
  },
  {
   "cell_type": "markdown",
   "metadata": {},
   "source": [
    "Now we write a function to generate adversarial images of images `X` using FGSM:"
   ]
  },
  {
   "cell_type": "code",
   "execution_count": 24,
   "metadata": {},
   "outputs": [],
   "source": [
    "def make_fgsm(X_data, epochs=1, eps=0.01, batch_size=128):\n",
    "    print('\\nMaking adversarials via FGSM')\n",
    "\n",
    "    n_sample = X_data.shape[0]\n",
    "    n_batch = int((n_sample + batch_size - 1) / batch_size)\n",
    "    X_adv = np.empty_like(X_data)\n",
    "\n",
    "    for batch in range(n_batch):\n",
    "        print(' batch {0}/{1}'.format(batch + 1, n_batch), end='\\r')\n",
    "        start = batch * batch_size\n",
    "        end = min(n_sample, start + batch_size)\n",
    "        feed_dict = {env.x: X_data[start:end], env.adv_eps: eps,\n",
    "                     env.adv_epochs: epochs}\n",
    "        adv = sess.run(env.x_fgsm, feed_dict=feed_dict)\n",
    "        X_adv[start:end] = adv\n",
    "    print()\n",
    "\n",
    "    return X_adv"
   ]
  },
  {
   "cell_type": "markdown",
   "metadata": {},
   "source": [
    "Compute predictions of `X_test` and their adversarial images: "
   ]
  },
  {
   "cell_type": "code",
   "execution_count": 25,
   "metadata": {
    "scrolled": true
   },
   "outputs": [
    {
     "name": "stdout",
     "output_type": "stream",
     "text": [
      "[Prediction] batch 79/79\n",
      "\n",
      "Making adversarials via FGSM\n",
      " batch 79/79\n",
      "[Prediction] batch 79/79\n"
     ]
    }
   ],
   "source": [
    "y1 = predict(X_test)\n",
    "\n",
    "X_adv = make_fgsm(X_test, eps=0.02, epochs=12)\n",
    "y2 = predict(X_adv)"
   ]
  },
  {
   "cell_type": "markdown",
   "metadata": {},
   "source": [
    "One-hot encodings -> labels"
   ]
  },
  {
   "cell_type": "code",
   "execution_count": 26,
   "metadata": {},
   "outputs": [],
   "source": [
    "z0 = np.argmax(y_test, axis=1) # true label over original images\n",
    "z1 = np.argmax(y1, axis=1) # predicted label over original images\n",
    "z2 = np.argmax(y2, axis=1) # predicted label over perturbed images"
   ]
  },
  {
   "cell_type": "markdown",
   "metadata": {},
   "source": [
    "Check labels of the first 10 images:"
   ]
  },
  {
   "cell_type": "code",
   "execution_count": 27,
   "metadata": {},
   "outputs": [
    {
     "name": "stdout",
     "output_type": "stream",
     "text": [
      "[7 2 1 0 4 1 4 9 5 9]\n",
      "[7 2 1 0 4 1 4 9 5 9]\n",
      "[3 6 4 6 9 4 8 4 6 7]\n"
     ]
    }
   ],
   "source": [
    "print(z0[0:10])\n",
    "print(z1[0:10])\n",
    "print(z2[0:10])"
   ]
  },
  {
   "cell_type": "markdown",
   "metadata": {},
   "source": [
    "How many perturbed images have the correct label?\n",
    "\n",
    "**[Your Answer Here]**"
   ]
  },
  {
   "cell_type": "markdown",
   "metadata": {},
   "source": [
    "Visualizing results of perturbed images:"
   ]
  },
  {
   "cell_type": "code",
   "execution_count": 28,
   "metadata": {
    "scrolled": false
   },
   "outputs": [
    {
     "data": {
      "image/png": "[encoded data removed]",
      "text/plain": [
       "<matplotlib.figure.Figure at 0x127501588>"
      ]
     },
     "metadata": {},
     "output_type": "display_data"
    },
    {
     "name": "stdout",
     "output_type": "stream",
     "text": [
      "True label: 7\n",
      "Prediction: 3\n"
     ]
    },
    {
     "data": {
      "image/png": "[encoded data removed]",
      "text/plain": [
       "<matplotlib.figure.Figure at 0x128a7b908>"
      ]
     },
     "metadata": {},
     "output_type": "display_data"
    },
    {
     "name": "stdout",
     "output_type": "stream",
     "text": [
      "True label: 2\n",
      "Prediction: 6\n"
     ]
    },
    {
     "data": {
      "image/png": "[encoded data removed]",
      "text/plain": [
       "<matplotlib.figure.Figure at 0x1276c0cc0>"
      ]
     },
     "metadata": {},
     "output_type": "display_data"
    },
    {
     "name": "stdout",
     "output_type": "stream",
     "text": [
      "True label: 1\n",
      "Prediction: 4\n"
     ]
    }
   ],
   "source": [
    "for i in range(3): # check 3 results\n",
    "    plt.imshow(X_adv[i][:, :, 0]) # shape: (28, 28, 1) -> (28, 28)\n",
    "    # note: you can also use:\n",
    "    # plt.imshow(np.squeeze(X_adv[i])\n",
    "    # https://docs.scipy.org/doc/numpy-1.10.4/reference/generated/numpy.squeeze.html\n",
    "    plt.show()\n",
    "    print('True label:', z0[i])\n",
    "    print('Prediction:', z2[i])"
   ]
  },
  {
   "cell_type": "markdown",
   "metadata": {},
   "source": [
    "Now we improve our visualization to be space-efficient and show examples for all classes.\n",
    "\n",
    "Randomly sample adversarial data from each of the 10 categories:"
   ]
  },
  {
   "cell_type": "code",
   "execution_count": 29,
   "metadata": {},
   "outputs": [
    {
     "name": "stdout",
     "output_type": "stream",
     "text": [
      "Target 0\n",
      "Target 1\n",
      "Target 2\n",
      "Target 3\n",
      "Target 4\n",
      "Target 5\n",
      "Target 6\n",
      "Target 7\n",
      "Target 8\n",
      "Target 9\n",
      "\n",
      "Plotting results\n"
     ]
    },
    {
     "data": {
      "image/png": "[encoded data removed]",
      "text/plain": [
       "<matplotlib.figure.Figure at 0x1020510b8>"
      ]
     },
     "metadata": {},
     "output_type": "display_data"
    }
   ],
   "source": [
    "import matplotlib.gridspec as gridspec\n",
    "\n",
    "X_tmp = np.empty((10, 28, 28))\n",
    "y_tmp = np.empty((10, 10))\n",
    "for i in range(10):\n",
    "    print('Target {0}'.format(i))\n",
    "    ind, = np.where(np.all([z0 == i, z1 == i, z2 != i], axis=0)) # ind = list of positions\n",
    "    # Function np.all() 'AND's all 3 arrays: an element is True only if all 3 conditions are met\n",
    "    cur = np.random.choice(ind)\n",
    "    X_tmp[i] = np.squeeze(X_adv[cur])\n",
    "    y_tmp[i] = y2[cur]\n",
    "\n",
    "print('\\nPlotting results')\n",
    "\n",
    "fig = plt.figure(figsize=(10, 1.2))\n",
    "gs = gridspec.GridSpec(1, 10, wspace=0.05, hspace=0.05)\n",
    "# Check usage: https://matplotlib.org/users/gridspec.html\n",
    "\n",
    "label = np.argmax(y_tmp, axis=1)\n",
    "proba = np.max(y_tmp, axis=1)\n",
    "for i in range(10):\n",
    "    ax = fig.add_subplot(gs[0, i])\n",
    "    ax.imshow(X_tmp[i], cmap='gray', interpolation='none')\n",
    "    ax.set_xticks([])\n",
    "    ax.set_yticks([])\n",
    "    ax.set_xlabel('{0} ({1:.2f})'.format(label[i], proba[i]),\n",
    "                  fontsize=12)"
   ]
  },
  {
   "cell_type": "markdown",
   "metadata": {},
   "source": [
    "How confident are the predictions of the perturbed images?\n",
    "\n",
    "**[Your Answer Here]**"
   ]
  },
  {
   "cell_type": "markdown",
   "metadata": {},
   "source": [
    "## Step 6: Understanding FGSM Code"
   ]
  },
  {
   "cell_type": "markdown",
   "metadata": {},
   "source": [
    "We first explain how to get the shape of a tensor. In TensorFlow, a tensor has both a static (inferred) shape and a dynamic (true) shape.\n",
    "\n",
    "The static shape can be read using the `tf.Tensor.get_shape()` method: this shape is inferred from the operations that were used to create the tensor, and may be partially complete.\n",
    "\n",
    "If the static shape is not fully defined, the dynamic shape of a Tensor `t` can be determined by evaluating `tf.shape(t)`."
   ]
  },
  {
   "cell_type": "code",
   "execution_count": 30,
   "metadata": {},
   "outputs": [
    {
     "name": "stdout",
     "output_type": "stream",
     "text": [
      "Tensor(\"Const:0\", shape=(2, 3), dtype=int32)\n",
      "Tensor(\"Shape:0\", shape=(2,), dtype=int32)\n"
     ]
    }
   ],
   "source": [
    "a = tf.constant([[1, 2, 3], [4, 5, 6]])\n",
    "print(a)\n",
    "\n",
    "a_shape = tf.shape(a)\n",
    "print(a_shape)"
   ]
  },
  {
   "cell_type": "markdown",
   "metadata": {},
   "source": [
    "You need to evaluate the shape:"
   ]
  },
  {
   "cell_type": "code",
   "execution_count": 31,
   "metadata": {},
   "outputs": [
    {
     "data": {
      "text/plain": [
       "array([2, 3], dtype=int32)"
      ]
     },
     "execution_count": 31,
     "metadata": {},
     "output_type": "execute_result"
    }
   ],
   "source": [
    "a_shape.eval()"
   ]
  },
  {
   "cell_type": "markdown",
   "metadata": {},
   "source": [
    "Note: since we use `InteractiveSession`, which installs itself as the default session. We can call `tf.Tensor.eval()` function without explicitly calling `sess.run(.)`."
   ]
  },
  {
   "cell_type": "markdown",
   "metadata": {},
   "source": [
    "This is equivalent to:"
   ]
  },
  {
   "cell_type": "code",
   "execution_count": 32,
   "metadata": {},
   "outputs": [
    {
     "data": {
      "text/plain": [
       "array([2, 3], dtype=int32)"
      ]
     },
     "execution_count": 32,
     "metadata": {},
     "output_type": "execute_result"
    }
   ],
   "source": [
    "sess.run(a_shape)"
   ]
  },
  {
   "cell_type": "markdown",
   "metadata": {},
   "source": [
    "Instead, you do not need to evaluating if you use `a.get_shape()`:"
   ]
  },
  {
   "cell_type": "code",
   "execution_count": 33,
   "metadata": {},
   "outputs": [
    {
     "data": {
      "text/plain": [
       "TensorShape([Dimension(2), Dimension(3)])"
      ]
     },
     "execution_count": 33,
     "metadata": {},
     "output_type": "execute_result"
    }
   ],
   "source": [
    "a.shape"
   ]
  },
  {
   "cell_type": "code",
   "execution_count": 34,
   "metadata": {},
   "outputs": [
    {
     "data": {
      "text/plain": [
       "TensorShape([Dimension(2), Dimension(3)])"
      ]
     },
     "execution_count": 34,
     "metadata": {},
     "output_type": "execute_result"
    }
   ],
   "source": [
    "a.get_shape() # equivalent"
   ]
  },
  {
   "cell_type": "code",
   "execution_count": 35,
   "metadata": {},
   "outputs": [
    {
     "data": {
      "text/plain": [
       "[2, 3]"
      ]
     },
     "execution_count": 35,
     "metadata": {},
     "output_type": "execute_result"
    }
   ],
   "source": [
    "a.get_shape().as_list()"
   ]
  },
  {
   "cell_type": "code",
   "execution_count": 36,
   "metadata": {},
   "outputs": [
    {
     "data": {
      "text/plain": [
       "[None, 3]"
      ]
     },
     "execution_count": 36,
     "metadata": {},
     "output_type": "execute_result"
    }
   ],
   "source": [
    "b = tf.placeholder(tf.float32, shape=(None, 3)) # shape can be incomplete\n",
    "b.get_shape().as_list()"
   ]
  },
  {
   "cell_type": "markdown",
   "metadata": {},
   "source": [
    "If we use `tf.shape(b)`, can the returned incomplete shape be evaluated?\n",
    "\n",
    "**[Your Answer Here]**"
   ]
  },
  {
   "cell_type": "markdown",
   "metadata": {},
   "source": [
    "Now, let's perturb the first 2 images in `X_test`. Copy them to a new tensor to pertube, called `xadv`."
   ]
  },
  {
   "cell_type": "code",
   "execution_count": 37,
   "metadata": {},
   "outputs": [
    {
     "name": "stdout",
     "output_type": "stream",
     "text": [
      "Tensor(\"Identity:0\", shape=(2, 28, 28, 1), dtype=float32)\n",
      "(28, 28, 1)\n"
     ]
    }
   ],
   "source": [
    "xadv = tf.identity(X_test[0:2]) # check: https://www.tensorflow.org/api_docs/python/tf/identity\n",
    "print(xadv) # Tensor\n",
    "print(xadv.eval()[0].shape) # xadv.eval() returns numpy array"
   ]
  },
  {
   "cell_type": "markdown",
   "metadata": {},
   "source": [
    "**OP 1:** `xadv` ---model---> `ybar`"
   ]
  },
  {
   "cell_type": "code",
   "execution_count": 38,
   "metadata": {},
   "outputs": [
    {
     "name": "stdout",
     "output_type": "stream",
     "text": [
      "[1.12799201e-12 2.65588285e-09 6.13258777e-09 3.91171762e-09\n",
      " 1.14156386e-10 3.53576578e-11 8.52617808e-14 9.99999881e-01\n",
      " 1.23403181e-08 1.14728344e-07]\n"
     ]
    }
   ],
   "source": [
    "with tf.variable_scope('model', reuse=True): # this is required\n",
    "# otherwise, the operations in our model are redefined with the same names\n",
    "# will report error (you can try); here, so we reuse the model operations\n",
    "    ybar, logits_ = model(xadv, logits=True)\n",
    "\n",
    "print(ybar.eval()[0])\n",
    "yshape = ybar.get_shape().as_list()\n",
    "ydim = yshape[1]"
   ]
  },
  {
   "cell_type": "markdown",
   "metadata": {},
   "source": [
    "**OP 2:** `ybar` ---argmax{prob-vec}---> `indices`\n",
    "\n",
    "Each row of `ybar` is a softmax-probability vector, and we map it to class label:"
   ]
  },
  {
   "cell_type": "code",
   "execution_count": 39,
   "metadata": {},
   "outputs": [
    {
     "name": "stdout",
     "output_type": "stream",
     "text": [
      "[7 2]\n"
     ]
    }
   ],
   "source": [
    "indices = tf.argmax(ybar, axis=1)\n",
    "print(indices.eval())"
   ]
  },
  {
   "cell_type": "markdown",
   "metadata": {},
   "source": [
    "**OP 3:** `indices` ---tf.one_hot---> `target`\n",
    "\n",
    "Now each label is changed to one-hot encoding. OP1, OP2 and OP3 essentially converts probability vector to one-hot encoding of prediction."
   ]
  },
  {
   "cell_type": "code",
   "execution_count": 40,
   "metadata": {},
   "outputs": [
    {
     "name": "stdout",
     "output_type": "stream",
     "text": [
      "[[0. 0. 0. 0. 0. 0. 0. 1. 0. 0.]\n",
      " [0. 0. 1. 0. 0. 0. 0. 0. 0. 0.]]\n"
     ]
    }
   ],
   "source": [
    "target = tf.one_hot(indices, ydim, on_value=1.0, off_value=0.0)\n",
    "print(target.eval())"
   ]
  },
  {
   "cell_type": "markdown",
   "metadata": {},
   "source": [
    "Now we compute loss `J` from vectors `target` (original prediction, considered true and to perturb) and `logits` (scores computed by `model(xadv)`)."
   ]
  },
  {
   "cell_type": "code",
   "execution_count": 41,
   "metadata": {},
   "outputs": [
    {
     "name": "stdout",
     "output_type": "stream",
     "text": [
      "[[-11.250331    -3.4862366   -2.6493979   -3.0990367   -6.633199\n",
      "   -7.8052535  -13.832798    16.260252    -1.9501413    0.2795535 ]\n",
      " [  3.4423647    0.38098857  19.740108    -8.932211    -5.3805404\n",
      "  -13.815955    -1.6145414   -6.604006    -6.4441624   -8.606051  ]]\n",
      "\n",
      "[1.1920928e-07 1.1920928e-07]\n"
     ]
    }
   ],
   "source": [
    "J = tf.nn.softmax_cross_entropy_with_logits(labels=target, logits=logits_)\n",
    "print(logits_.eval())\n",
    "print()\n",
    "print(J.eval())"
   ]
  },
  {
   "cell_type": "markdown",
   "metadata": {},
   "source": [
    "We are using the notations here: https://medium.com/onfido-tech/adversarial-attacks-and-defences-for-convolutional-neural-networks-66915ece52e7. Now let us complete FGSM:"
   ]
  },
  {
   "cell_type": "code",
   "execution_count": 42,
   "metadata": {},
   "outputs": [],
   "source": [
    "# Now, our input `xadv = tf.identity(X_test[0:2])` is a constant\n",
    "# gradient will be evaluated to be zero (= None)\n",
    "\n",
    "# recall that we have defined model input env.x, can be reused\n",
    "\n",
    "# loss needs to be redefined, compared not with true label, \n",
    "# but the predicted label (which is to be changed)\n",
    "yshape = env.ybar.get_shape().as_list()\n",
    "ydim = yshape[1]\n",
    "indices = tf.argmax(env.ybar, axis=1)\n",
    "target = tf.one_hot(indices, ydim, on_value=1.0, off_value=0.0)\n",
    "J = tf.nn.softmax_cross_entropy_with_logits(labels=target, logits=logits)\n",
    "#J = tf.nn.softmax_cross_entropy_with_logits(labels=y_test[:10], logits=logits) ### hint ###\n",
    "\n",
    "# Now we implement FGSM using notations of:\n",
    "# https://medium.com/onfido-tech/adversarial-attacks-and-defences-for-convolutional-neural-networks-66915ece52e7\n",
    "eps=0.02\n",
    "\n",
    "# Check: https://www.tensorflow.org/api_docs/python/tf/gradients\n",
    "dJ_dxadv = tf.gradients(J, env.x)[0] # tf.gradients returns a singleton list\n",
    "\n",
    "# Check: https://www.tensorflow.org/api_docs/python/tf/stop_gradient\n",
    "xadv = tf.stop_gradient(env.x + eps*tf.sign(dJ_dxadv)) #outputs its input tensor as-is\n",
    "# note: the new 'xadv' is treated as a constant, not backpropagation during eval\n",
    "# thus, it will not propagation -> J -> model, and trained model parameters are protected\n",
    "\n",
    "# Check: https://www.tensorflow.org/api_docs/python/tf/clip_by_value\n",
    "xadv = tf.clip_by_value(xadv, 0.0, 1.0) # we assume pixel values are within [0, 1]\n",
    "\n",
    "feed_dict = {env.x: X_test[0:10]} # input is test images\n",
    "X_adv = sess.run(xadv, feed_dict=feed_dict)"
   ]
  },
  {
   "cell_type": "markdown",
   "metadata": {},
   "source": [
    "This is one iteration, see how it performs:"
   ]
  },
  {
   "cell_type": "code",
   "execution_count": 43,
   "metadata": {},
   "outputs": [
    {
     "name": "stdout",
     "output_type": "stream",
     "text": [
      "[Prediction] batch 1/1\r\n",
      "[Prediction] batch 1/1\r\n",
      "[7 2 1 0 4 1 4 9 5 9]\n",
      "[7 2 1 0 4 1 4 9 5 9]\n"
     ]
    },
    {
     "data": {
      "image/png": "[encoded data removed]",
      "text/plain": [
       "<matplotlib.figure.Figure at 0x12cb46b00>"
      ]
     },
     "metadata": {},
     "output_type": "display_data"
    },
    {
     "name": "stdout",
     "output_type": "stream",
     "text": [
      "True label: 7\n",
      "Prediction: 7\n"
     ]
    },
    {
     "data": {
      "image/png": "[encoded data removed]",
      "text/plain": [
       "<matplotlib.figure.Figure at 0x128ab99e8>"
      ]
     },
     "metadata": {},
     "output_type": "display_data"
    },
    {
     "name": "stdout",
     "output_type": "stream",
     "text": [
      "True label: 2\n",
      "Prediction: 2\n"
     ]
    },
    {
     "data": {
      "image/png": "[encoded data removed]",
      "text/plain": [
       "<matplotlib.figure.Figure at 0x1276d9550>"
      ]
     },
     "metadata": {},
     "output_type": "display_data"
    },
    {
     "name": "stdout",
     "output_type": "stream",
     "text": [
      "True label: 1\n",
      "Prediction: 1\n"
     ]
    }
   ],
   "source": [
    "y1 = predict(X_test[0:10])\n",
    "y2 = predict(X_adv)\n",
    "\n",
    "z1 = np.argmax(y1, axis=1) # predicted label over original images\n",
    "z2 = np.argmax(y2, axis=1) # predicted label over perturbed images\n",
    "print(z1)\n",
    "print(z2)\n",
    "\n",
    "for i in range(3): # check 3 results\n",
    "    plt.imshow(X_adv[i][:, :, 0]) # shape: (28, 28, 1) -> (28, 28)\n",
    "    # note: you can also use:\n",
    "    # plt.imshow(np.squeeze(X_adv[i])\n",
    "    # https://docs.scipy.org/doc/numpy-1.10.4/reference/generated/numpy.squeeze.html\n",
    "    plt.show()\n",
    "    print('True label:', z0[i])\n",
    "    print('Prediction:', z2[i])"
   ]
  },
  {
   "cell_type": "markdown",
   "metadata": {},
   "source": [
    "Not effective at all!"
   ]
  },
  {
   "cell_type": "markdown",
   "metadata": {},
   "source": [
    "How about running for 11 more iterations?"
   ]
  },
  {
   "cell_type": "code",
   "execution_count": 44,
   "metadata": {},
   "outputs": [],
   "source": [
    "for _ in range(11):\n",
    "    feed_dict = {env.x: X_adv} # input is previously perturbed images\n",
    "    X_adv = sess.run(xadv, feed_dict=feed_dict)"
   ]
  },
  {
   "cell_type": "code",
   "execution_count": 45,
   "metadata": {},
   "outputs": [
    {
     "name": "stdout",
     "output_type": "stream",
     "text": [
      "[Prediction] batch 1/1\n",
      "[Prediction] batch 1/1\n",
      "[7 2 1 0 4 1 4 9 5 9]\n",
      "[7 2 1 0 4 1 8 9 5 8]\n"
     ]
    },
    {
     "data": {
      "image/png": "[encoded data removed]",
      "text/plain": [
       "<matplotlib.figure.Figure at 0x128a8a160>"
      ]
     },
     "metadata": {},
     "output_type": "display_data"
    },
    {
     "name": "stdout",
     "output_type": "stream",
     "text": [
      "True label: 7\n",
      "Prediction: 7\n"
     ]
    },
    {
     "data": {
      "image/png": "[encoded data removed]",
      "text/plain": [
       "<matplotlib.figure.Figure at 0x101fd1d30>"
      ]
     },
     "metadata": {},
     "output_type": "display_data"
    },
    {
     "name": "stdout",
     "output_type": "stream",
     "text": [
      "True label: 2\n",
      "Prediction: 2\n"
     ]
    },
    {
     "data": {
      "image/png": "[encoded data removed]",
      "text/plain": [
       "<matplotlib.figure.Figure at 0x12820cfd0>"
      ]
     },
     "metadata": {},
     "output_type": "display_data"
    },
    {
     "name": "stdout",
     "output_type": "stream",
     "text": [
      "True label: 1\n",
      "Prediction: 1\n"
     ]
    }
   ],
   "source": [
    "y1 = predict(X_test[0:10])\n",
    "y2 = predict(X_adv)\n",
    "\n",
    "z1 = np.argmax(y1, axis=1) # predicted label over original images\n",
    "z2 = np.argmax(y2, axis=1) # predicted label over perturbed images\n",
    "print(z1)\n",
    "print(z2)\n",
    "\n",
    "for i in range(3): # check 3 results\n",
    "    plt.imshow(X_adv[i][:, :, 0]) # shape: (28, 28, 1) -> (28, 28)\n",
    "    # note: you can also use:\n",
    "    # plt.imshow(np.squeeze(X_adv[i])\n",
    "    # https://docs.scipy.org/doc/numpy-1.10.4/reference/generated/numpy.squeeze.html\n",
    "    plt.show()\n",
    "    print('True label:', z0[i])\n",
    "    print('Prediction:', z2[i])"
   ]
  },
  {
   "cell_type": "markdown",
   "metadata": {},
   "source": [
    "Still not as effective as `make_fgsm(.)`. Why? And how to fix it?\n",
    "\n",
    "**[Your Answer Here]** Hint: search for ### hint ### in this notebook"
   ]
  },
  {
   "cell_type": "markdown",
   "metadata": {},
   "source": [
    "Now, refer back to `make_fgsm(.)`, in it `sess.run(.)` is called on `env.x_fgsm`, which is set using function `fgm(.)` in `attack/fast_gradient.py`. Please open that file and read the function. You may find the following links helpful:\n",
    "1. https://docs.w3cub.com/tensorflow~python/tf/while_loop/\n",
    "2. https://www.tensorflow.org/api_docs/python/tf/cond"
   ]
  },
  {
   "cell_type": "markdown",
   "metadata": {},
   "source": [
    "What is the difference there compared with the one implemented in this notebook?\n",
    "\n",
    "**[Your Answer Here]**"
   ]
  },
  {
   "cell_type": "markdown",
   "metadata": {},
   "source": [
    "## Step 7: Understanding T-FGSM"
   ]
  },
  {
   "cell_type": "markdown",
   "metadata": {},
   "source": [
    "Read function `fgmt(.)` in `attack/fast_gradient.py`. Note that there is one more input `y` (target label) which is set as the least likely class by default.\n",
    "\n",
    "Write `make_fgsmt` following how `make_fgsm` is wrote:"
   ]
  },
  {
   "cell_type": "code",
   "execution_count": 46,
   "metadata": {},
   "outputs": [],
   "source": [
    "def make_fgsmt(X_data, y_adv, epochs=1, eps=0.01, batch_size=128):\n",
    "    ######################################################################\n",
    "    # TODO: your code here ...                                           #\n",
    "    ######################################################################\n",
    "    pass\n",
    "    ######################################################################\n",
    "    #                              END OF YOUR CODE                      #\n",
    "    ######################################################################"
   ]
  },
  {
   "cell_type": "markdown",
   "metadata": {},
   "source": [
    "Now, try it on `X_test[0:3]`:"
   ]
  },
  {
   "cell_type": "code",
   "execution_count": 47,
   "metadata": {},
   "outputs": [
    {
     "name": "stdout",
     "output_type": "stream",
     "text": [
      "\n",
      "Making adversarials via T-FGSM\n",
      " batch 1/1\n"
     ]
    }
   ],
   "source": [
    "X_adv = make_fgsmt(X_test[0:3], 1, eps=0.02, epochs=12)"
   ]
  },
  {
   "cell_type": "code",
   "execution_count": 48,
   "metadata": {},
   "outputs": [
    {
     "name": "stdout",
     "output_type": "stream",
     "text": [
      "[Prediction] batch 1/1\n",
      "[Prediction] batch 1/1\n",
      "[7 2 1]\n",
      "[7 1 1]\n"
     ]
    },
    {
     "data": {
      "image/png": "[encoded data removed]",
      "text/plain": [
       "<matplotlib.figure.Figure at 0x12cbad160>"
      ]
     },
     "metadata": {},
     "output_type": "display_data"
    },
    {
     "name": "stdout",
     "output_type": "stream",
     "text": [
      "True label: 7\n",
      "Prediction: 7\n"
     ]
    },
    {
     "data": {
      "image/png": "[encoded data removed]",
      "text/plain": [
       "<matplotlib.figure.Figure at 0x1282f50b8>"
      ]
     },
     "metadata": {},
     "output_type": "display_data"
    },
    {
     "name": "stdout",
     "output_type": "stream",
     "text": [
      "True label: 2\n",
      "Prediction: 1\n"
     ]
    },
    {
     "data": {
      "image/png": "[encoded data removed]",
      "text/plain": [
       "<matplotlib.figure.Figure at 0x1284c1dd8>"
      ]
     },
     "metadata": {},
     "output_type": "display_data"
    },
    {
     "name": "stdout",
     "output_type": "stream",
     "text": [
      "True label: 1\n",
      "Prediction: 1\n"
     ]
    }
   ],
   "source": [
    "y1 = predict(X_test[0:3])\n",
    "y2 = predict(X_adv)\n",
    "\n",
    "z1 = np.argmax(y1, axis=1) # predicted label over original images\n",
    "z2 = np.argmax(y2, axis=1) # predicted label over perturbed images\n",
    "print(z1)\n",
    "print(z2)\n",
    "\n",
    "for i in range(3): # check 3 results\n",
    "    plt.imshow(X_adv[i][:, :, 0]) # shape: (28, 28, 1) -> (28, 28)\n",
    "    # note: you can also use:\n",
    "    # plt.imshow(np.squeeze(X_adv[i])\n",
    "    # https://docs.scipy.org/doc/numpy-1.10.4/reference/generated/numpy.squeeze.html\n",
    "    plt.show()\n",
    "    print('True label:', z0[i])\n",
    "    print('Prediction:', z2[i])"
   ]
  },
  {
   "cell_type": "markdown",
   "metadata": {},
   "source": [
    "## Step 8: Comparing Different Attacking Methods"
   ]
  },
  {
   "cell_type": "code",
   "execution_count": 49,
   "metadata": {},
   "outputs": [],
   "source": [
    "def make_jsma(X_data, epochs=0.2, eps=1.0, batch_size=128):\n",
    "    print('\\nMaking adversarials via JSMA')\n",
    "\n",
    "    n_sample = X_data.shape[0]\n",
    "    n_batch = int((n_sample + batch_size - 1) / batch_size)\n",
    "    X_adv = np.empty_like(X_data)\n",
    "\n",
    "    for batch in range(n_batch):\n",
    "        print(' batch {0}/{1}'.format(batch + 1, n_batch), end='\\r')\n",
    "        start = batch * batch_size\n",
    "        end = min(n_sample, start + batch_size)\n",
    "        feed_dict = {\n",
    "            env.x: X_data[start:end],\n",
    "            env.adv_y: np.random.choice(n_classes),\n",
    "            env.adv_epochs: epochs,\n",
    "            env.adv_eps: eps}\n",
    "        adv = sess.run(env.x_jsma, feed_dict=feed_dict)\n",
    "        X_adv[start:end] = adv\n",
    "    print()\n",
    "\n",
    "    return X_adv\n",
    "\n",
    "\n",
    "def make_deepfool(X_data, epochs=1, eps=0.01, batch_size=128):\n",
    "    print('\\nMaking adversarials via FGSM')\n",
    "\n",
    "    n_sample = X_data.shape[0]\n",
    "    n_batch = int((n_sample + batch_size - 1) / batch_size)\n",
    "    X_adv = np.empty_like(X_data)\n",
    "\n",
    "    for batch in range(n_batch):\n",
    "        print(' batch {0}/{1}'.format(batch + 1, n_batch), end='\\r')\n",
    "        start = batch * batch_size\n",
    "        end = min(n_sample, start + batch_size)\n",
    "        feed_dict = {env.x: X_data[start:end], env.adv_epochs: epochs}\n",
    "        adv = sess.run(env.x_deepfool, feed_dict=feed_dict)\n",
    "        X_adv[start:end] = adv\n",
    "    print()\n",
    "\n",
    "    return X_adv"
   ]
  },
  {
   "cell_type": "code",
   "execution_count": 50,
   "metadata": {},
   "outputs": [
    {
     "name": "stdout",
     "output_type": "stream",
     "text": [
      "\n",
      "Randomly sample adversarial data from each category\n",
      "[Prediction] batch 1/1\n",
      "\n",
      "Making adversarials via FGSM\n",
      " batch 1/1\n",
      "\n",
      "Making adversarials via JSMA\n",
      " batch 1/1\n",
      "\n",
      "Making adversarials via FGSM\n",
      " batch 1/1\n",
      "[Prediction] batch 1/1\n",
      "[Prediction] batch 1/1\n",
      "[Prediction] batch 1/1\n",
      "[Prediction] batch 1/1\n",
      "\n",
      "Making adversarials via FGSM\n",
      " batch 1/1\n",
      "\n",
      "Making adversarials via JSMA\n",
      " batch 1/1\n",
      "\n",
      "Making adversarials via FGSM\n",
      " batch 1/1\n",
      "[Prediction] batch 1/1\n",
      "[Prediction] batch 1/1\n",
      "[Prediction] batch 1/1\n"
     ]
    },
    {
     "data": {
      "text/plain": [
       "<matplotlib.colorbar.Colorbar at 0x1283a9b70>"
      ]
     },
     "execution_count": 50,
     "metadata": {},
     "output_type": "execute_result"
    },
    {
     "data": {
      "image/png": "[encoded data removed]",
      "text/plain": [
       "<matplotlib.figure.Figure at 0x12a809ba8>"
      ]
     },
     "metadata": {},
     "output_type": "display_data"
    }
   ],
   "source": [
    "print('\\nRandomly sample adversarial data from each category')\n",
    "\n",
    "while True:\n",
    "    ind = np.random.choice(X_test.shape[0])\n",
    "    xorg, y0 = X_test[ind], y_test[ind]\n",
    "\n",
    "    xorg = np.expand_dims(xorg, axis=0)\n",
    "    z0 = np.argmax(y0)\n",
    "    z1 = np.argmax(predict(xorg))\n",
    "\n",
    "    if z0 != z1:\n",
    "        continue\n",
    "\n",
    "    xadvs = [make_fgsm(xorg, eps=0.02, epochs=10),\n",
    "             make_jsma(xorg, eps=0.5, epochs=40),\n",
    "             make_deepfool(xorg, epochs=1)]\n",
    "    y2 = [predict(xi).flatten() for xi in xadvs]\n",
    "    p2 = [np.max(yi) for yi in y2]\n",
    "    z2 = [np.argmax(yi) for yi in y2]\n",
    "\n",
    "    if np.all([z0 != z2]):\n",
    "        break\n",
    "\n",
    "fig = plt.figure(figsize=(4.2, 2.2))\n",
    "gs = gridspec.GridSpec(2, 5, width_ratios=[1, 1, 1, 1, 0.1], wspace=0.01,\n",
    "                       hspace=0.01)\n",
    "label = ['Clean', 'FGM', 'JSMA', 'DeepFool']\n",
    "\n",
    "xorg = np.squeeze(xorg)\n",
    "xadvs = [xorg] + xadvs\n",
    "xadvs = [np.squeeze(e) for e in xadvs]\n",
    "\n",
    "p2 = [np.max(y0)] + p2\n",
    "z2 = [z0] + z2\n",
    "\n",
    "for i in range(len(label)):\n",
    "    x = xadvs[i]\n",
    "\n",
    "    ax = fig.add_subplot(gs[0, i])\n",
    "    ax.imshow(x, cmap='gray', interpolation='none')\n",
    "    ax.set_xticks([])\n",
    "    ax.set_yticks([])\n",
    "\n",
    "    ax.set_xlabel(label[i])\n",
    "    ax.xaxis.set_label_position('top')\n",
    "\n",
    "    ax = fig.add_subplot(gs[1, i])\n",
    "    img = ax.imshow(x-xorg, cmap='RdBu_r', vmin=-1, vmax=1,\n",
    "                    interpolation='none')\n",
    "    ax.set_xticks([])\n",
    "    ax.set_yticks([])\n",
    "\n",
    "    ax.set_xlabel('{0} ({1:.2f})'.format(z2[i], p2[i]), fontsize=12)\n",
    "\n",
    "ax = fig.add_subplot(gs[1, 4])\n",
    "dummy = plt.cm.ScalarMappable(cmap='RdBu_r',\n",
    "                              norm=plt.Normalize(vmin=-1, vmax=1))\n",
    "dummy.set_array([])\n",
    "fig.colorbar(mappable=dummy, cax=ax, ticks=[-1, 0, 1], ticklocation='right')"
   ]
  },
  {
   "cell_type": "markdown",
   "metadata": {},
   "source": [
    "You may study `DeepFool` and `CW` in more detail. See this reading list (ref: https://github.com/gongzhitaao/tensorflow-adversarial)\n",
    "* Moment iterative attack https://arxiv.org/abs/1710.06081\n",
    "* Virtual adversarial https://arxiv.org/abs/1507.00677\n",
    "* CarliniWagner (CW) https://arxiv.org/abs/1608.04644\n",
    "* Elastic net https://arxiv.org/abs/1709.04114\n",
    "* MadryEtAl https://arxiv.org/abs/1706.06083\n",
    "* Fast feature https://arxiv.org/abs/1511.05122\n",
    "* Houdini https://arxiv.org/abs/1707.05373"
   ]
  },
  {
   "cell_type": "markdown",
   "metadata": {},
   "source": [
    "A potential final project is to explain and compare these algorithms, e.g., on larger datasets like CIFAR10."
   ]
  },
  {
   "cell_type": "markdown",
   "metadata": {},
   "source": [
    "Another is to study/implement the winning attack and defense methods https://github.com/gongzhitaao/tensorflow-adversarial"
   ]
  }
 ],
 "metadata": {
  "kernelspec": {
   "display_name": "Python 3",
   "language": "python",
   "name": "python3"
  },
  "language_info": {
   "codemirror_mode": {
    "name": "ipython",
    "version": 3
   },
   "file_extension": ".py",
   "mimetype": "text/x-python",
   "name": "python",
   "nbconvert_exporter": "python",
   "pygments_lexer": "ipython3",
   "version": "3.6.4"
  }
 },
 "nbformat": 4,
 "nbformat_minor": 2
}
